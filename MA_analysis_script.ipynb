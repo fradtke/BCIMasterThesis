{
 "cells": [
  {
   "cell_type": "code",
   "execution_count": 2,
   "id": "initial_id",
   "metadata": {
    "collapsed": true,
    "ExecuteTime": {
     "end_time": "2024-08-21T09:39:56.332220100Z",
     "start_time": "2024-08-21T09:39:56.313272Z"
    }
   },
   "outputs": [],
   "source": [
    "import os\n",
    "\n",
    "import numpy as np\n",
    "import scipy\n",
    "import pandas as pd\n",
    "\n",
    "from pprint import pprint\n",
    "\n",
    "import seaborn as sns\n",
    "import matplotlib.pyplot as plt"
   ]
  },
  {
   "cell_type": "code",
   "outputs": [],
   "source": [
    "data_folder_path = ''\n",
    "file_identifier = '.json'\n",
    "data_set = {}\n",
    "for folder in os.listdir(data_folder_path):\n",
    "    for file in os.listdir(data_folder_path + '/' + folder):\n",
    "        if file.endswith(file_identifier):\n",
    "            test = data_folder_path + '/' + folder + '/' + file\n",
    "            data_set[file] = pd.read_json(data_folder_path + '/' + folder + '/' + file)"
   ],
   "metadata": {
    "collapsed": false,
    "ExecuteTime": {
     "end_time": "2024-08-21T09:39:57.174661Z",
     "start_time": "2024-08-21T09:39:56.332220100Z"
    }
   },
   "id": "5eb7e410a384f147",
   "execution_count": 3
  },
  {
   "cell_type": "code",
   "outputs": [],
   "source": [
    "group_dict = {}\n",
    "\n",
    "for key in data_set:\n",
    "    keywords = key.split(\"_\")\n",
    "    subject_identifier = keywords[-1].replace(\".json\", \"\")\n",
    "    network_typ = 'CNN'\n",
    "    if keywords[1] == 'RNN':\n",
    "        network_typ = 'RNN'\n",
    "\n",
    "    group_dict[key] = {'subject_identifier': subject_identifier, 'network_typ': network_typ,\n",
    "                       'accuracy': data_set.get(key)[0].get(\"accuracy\")}"
   ],
   "metadata": {
    "collapsed": false,
    "ExecuteTime": {
     "end_time": "2024-08-21T09:39:57.191614500Z",
     "start_time": "2024-08-21T09:39:57.176654300Z"
    }
   },
   "id": "25bff0c1541cc9b7",
   "execution_count": 4
  },
  {
   "cell_type": "code",
   "outputs": [],
   "source": [
    "test_frame = pd.DataFrame(group_dict).T"
   ],
   "metadata": {
    "collapsed": false,
    "ExecuteTime": {
     "end_time": "2024-08-21T09:39:57.215550500Z",
     "start_time": "2024-08-21T09:39:57.191614500Z"
    }
   },
   "id": "489dee0ed43385a4",
   "execution_count": 5
  },
  {
   "cell_type": "code",
   "outputs": [],
   "source": [
    "grouped_dataframe = pd.DataFrame(columns=['subject_identifier', 'cnn_accuracy', 'rnn_accuracy'])\n",
    "for key in test_frame.groupby('subject_identifier'):\n",
    "    grouped_dataframe = pd.concat([grouped_dataframe,\n",
    "                                   pd.DataFrame(\n",
    "                                       {'subject_identifier': key[0],\n",
    "                                        'cnn_accuracy': key[1].loc[key[1]['network_typ'] == 'CNN', 'accuracy'][0],\n",
    "                                        'rnn_accuracy': key[1].loc[key[1]['network_typ'] == 'RNN', 'accuracy'][0]\n",
    "                                        }, index=['subject_identifier']\n",
    "                                   )\n",
    "                                   ], ignore_index=True)"
   ],
   "metadata": {
    "collapsed": false,
    "ExecuteTime": {
     "end_time": "2024-08-21T09:39:57.251967900Z",
     "start_time": "2024-08-21T09:39:57.205578200Z"
    }
   },
   "id": "87cb6a92ebd68a54",
   "execution_count": 6
  },
  {
   "cell_type": "code",
   "outputs": [
    {
     "name": "stdout",
     "output_type": "stream",
     "text": [
      "   subject_identifier  cnn_accuracy  rnn_accuracy\n",
      "0             General      0.200513          0.20\n",
      "1            Sample01      0.340000          0.14\n",
      "2            Sample02      0.440000          0.28\n",
      "3            Sample03      0.680000          0.16\n",
      "4            Sample04      0.200000          0.14\n",
      "5            Sample05      0.620000          0.26\n",
      "6            Sample06      0.380000          0.16\n",
      "7            Sample07      0.540000          0.10\n",
      "8            Sample08      0.560000          0.30\n",
      "9            Sample09      0.380000          0.22\n",
      "10           Sample10      0.480000          0.22\n",
      "11           Sample11      0.640000          0.22\n",
      "12           Sample12      0.540000          0.28\n",
      "13           Sample13      0.360000          0.28\n",
      "14           Sample14      0.420000          0.20\n",
      "15           Sample15      0.400000          0.24\n"
     ]
    }
   ],
   "source": [
    "pprint(grouped_dataframe)"
   ],
   "metadata": {
    "collapsed": false,
    "ExecuteTime": {
     "end_time": "2024-08-21T09:39:57.270921400Z",
     "start_time": "2024-08-21T09:39:57.253966100Z"
    }
   },
   "id": "907d385a76a24963",
   "execution_count": 7
  },
  {
   "cell_type": "code",
   "outputs": [],
   "source": [
    "grouped_df_without_general = grouped_dataframe[grouped_dataframe['subject_identifier'] != 'General']"
   ],
   "metadata": {
    "collapsed": false,
    "ExecuteTime": {
     "end_time": "2024-08-21T09:39:57.306825600Z",
     "start_time": "2024-08-21T09:39:57.270921400Z"
    }
   },
   "id": "dcf7f376217664fc",
   "execution_count": 8
  },
  {
   "cell_type": "code",
   "outputs": [],
   "source": [
    "cnn_accuracy_list = grouped_df_without_general.get('cnn_accuracy').to_list()\n",
    "rnn_accuracy_list = grouped_df_without_general.get('rnn_accuracy').to_list()"
   ],
   "metadata": {
    "collapsed": false,
    "ExecuteTime": {
     "end_time": "2024-08-21T09:39:57.308820400Z",
     "start_time": "2024-08-21T09:39:57.283885900Z"
    }
   },
   "id": "bd8651250076d45d",
   "execution_count": 9
  },
  {
   "cell_type": "code",
   "outputs": [
    {
     "name": "stdout",
     "output_type": "stream",
     "text": [
      "CNN: mean: 0.4653 ; std: 0.1264 n = 15\n",
      "RNN: mean: 0.2133 ; std: 0.0596 n = 15\n"
     ]
    },
    {
     "data": {
      "text/plain": "<Figure size 432x288 with 1 Axes>",
      "image/png": "[encoded data removed]"
     },
     "metadata": {
      "needs_background": "light"
     },
     "output_type": "display_data"
    },
    {
     "name": "stdout",
     "output_type": "stream",
     "text": [
      "CNN Shapiro-Wilk p-value: 0.8319\n",
      "RNN Shapiro-Wilk p-value: 0.3714\n",
      "Levene's test p-value: 0.016\n",
      "Mann-Whitney U test p-value: 2.0657484497919397e-05\n"
     ]
    }
   ],
   "source": [
    "# Descriptive statistik\n",
    "print(f'CNN: mean: {np.round(np.mean(cnn_accuracy_list), 4)} ; std: {np.round(np.std(cnn_accuracy_list), 4)} n = {len(cnn_accuracy_list)}')\n",
    "print(f'RNN: mean: {np.round(np.mean(rnn_accuracy_list), 4)} ; std: {np.round(np.std(rnn_accuracy_list), 4)} n = {len(cnn_accuracy_list)}')\n",
    "\n",
    "# visualisation of the data \n",
    "sns.boxplot(data=[cnn_accuracy_list, rnn_accuracy_list])\n",
    "plt.xticks([0, 1], ['CNN', 'RNN'])\n",
    "plt.show()\n",
    "\n",
    "# Test for normaldistribution \n",
    "_, p_value1 = scipy.stats.shapiro(cnn_accuracy_list)\n",
    "_, p_value2 = scipy.stats.shapiro(rnn_accuracy_list)\n",
    "print(f\"CNN Shapiro-Wilk p-value: {np.round(p_value1,4)}\")\n",
    "print(f\"RNN Shapiro-Wilk p-value: {np.round(p_value2,4)}\")\n",
    "\n",
    "# Test for variance homogeneity \n",
    "_, p_value_levene = scipy.stats.levene(cnn_accuracy_list, rnn_accuracy_list)\n",
    "print(f\"Levene's test p-value: {np.round(p_value_levene,4)}\")\n",
    "\n",
    "# Choosing of the right test\n",
    "if p_value1 > 0.05 and p_value2 > 0.05 and p_value_levene > 0.05:\n",
    "    # t-Test\n",
    "    t_stat, p_value_ttest = scipy.stats.ttest_ind(cnn_accuracy_list, rnn_accuracy_list)\n",
    "    print(f\"t-Test p-value: {np.round(p_value_ttest,4)}\")\n",
    "else:\n",
    "    # Mann-Whitney-U-Test\n",
    "    u_stat, p_value_mannwhitney = scipy.stats.mannwhitneyu(cnn_accuracy_list, rnn_accuracy_list)\n",
    "    print(f\"Mann-Whitney U test p-value: {p_value_mannwhitney}\")\n"
   ],
   "metadata": {
    "collapsed": false,
    "ExecuteTime": {
     "end_time": "2024-08-21T09:39:57.669922200Z",
     "start_time": "2024-08-21T09:39:57.304830700Z"
    }
   },
   "id": "c3dcc9f971aea65a",
   "execution_count": 10
  },
  {
   "cell_type": "code",
   "outputs": [],
   "source": [
    "# Creation of the bootstrap method for the comparison of the grouped data networks to the individual networks\n",
    "\n",
    "def bootstrap_confidence_interval(\n",
    "        data, num_iterations=10000, confidence_level=0.95, random_seed=0\n",
    "):\n",
    "    np.random.seed(random_seed)\n",
    "    bootstrap_samples = np.random.choice(data, size=(num_iterations, len(data)), replace=True)\n",
    "    bootstrap_means = np.mean(bootstrap_samples, axis=1)\n",
    "    lower_bound = np.percentile(bootstrap_means, (1 - confidence_level) / 2 * 100)\n",
    "    upper_bound = np.percentile(bootstrap_means, (1 + confidence_level) / 2 * 100)\n",
    "    return lower_bound, upper_bound"
   ],
   "metadata": {
    "collapsed": false,
    "ExecuteTime": {
     "end_time": "2024-08-21T09:39:57.722779200Z",
     "start_time": "2024-08-21T09:39:57.674908100Z"
    }
   },
   "id": "a671e4716d2cc90e",
   "execution_count": 11
  },
  {
   "cell_type": "code",
   "outputs": [],
   "source": [
    "bootstrap_list = [\n",
    "    ('cnn_accuracy', grouped_dataframe.get(['subject_identifier', 'cnn_accuracy']))\n",
    "    , ('rnn_accuracy', grouped_dataframe.get(['subject_identifier', 'rnn_accuracy']))\n",
    "]"
   ],
   "metadata": {
    "collapsed": false,
    "ExecuteTime": {
     "end_time": "2024-08-21T09:39:57.723777Z",
     "start_time": "2024-08-21T09:39:57.688873800Z"
    }
   },
   "id": "3cc7ee1b3f27c359",
   "execution_count": 12
  },
  {
   "cell_type": "code",
   "outputs": [
    {
     "name": "stdout",
     "output_type": "stream",
     "text": [
      "For the condition of the CNN-networks we can observer that the single value from the general group is 0.2005 and the mean value from the individual group is 0.4653 and the limits of the 95% confidence interval for individual group are 0.4 and 0.5293 and that the difference of the mean value is significant.\n",
      "\n",
      "For the condition of the RNN-networks we can observer that the single value from the general group is 0.2 and the mean value from the individual group is 0.2133 and the limits of the 95% confidence interval for individual group are 0.1827 and 0.2427, but that the difference of the mean values are not significant.\n"
     ]
    }
   ],
   "source": [
    "# Comparison of the conditions\n",
    "\n",
    "# for condition in bootstrap_list:\n",
    "for condition in bootstrap_list:\n",
    "    condition_name = condition[0]\n",
    "    condition_values = condition[1]\n",
    "    group_general = condition_values[(condition_values['subject_identifier'] == 'General')][condition_name].values\n",
    "    group_individual = condition_values[(condition_values['subject_identifier'] != 'General')][condition_name].values\n",
    "\n",
    "    if len(group_general) == 1:\n",
    "        value_of_general_data = group_general[0]\n",
    "        mean_gruppe_b = np.mean(group_individual)\n",
    "        conf_interval = bootstrap_confidence_interval(group_individual)\n",
    "        significant_text = \"\"\n",
    "        \n",
    "        if value_of_general_data < conf_interval[0] or value_of_general_data > conf_interval[1]:\n",
    "            significant_text = \" and that the difference of the mean value is significant.\"\n",
    "        else:\n",
    "            significant_text = \", but that the difference of the mean values are not significant.\"\n",
    "            \n",
    "        print(\n",
    "            f\"For the condition of the {condition_name[:3].upper()}-networks we can observer that the single value from the general group is {round(value_of_general_data, 4)} and the mean value from the individual group is {round(mean_gruppe_b, 4)} and the limits of the 95% confidence interval for individual group are {round(conf_interval[0], 4)} and {round(conf_interval[1], 4)}{significant_text}\")\n",
    "\n",
    "        print()\n",
    "\n"
   ],
   "metadata": {
    "collapsed": false,
    "ExecuteTime": {
     "end_time": "2024-08-21T09:39:57.740733800Z",
     "start_time": "2024-08-21T09:39:57.702833400Z"
    }
   },
   "id": "2c674166d8ff79c0",
   "execution_count": 13
  }
 ],
 "metadata": {
  "kernelspec": {
   "display_name": "Python 3",
   "language": "python",
   "name": "python3"
  },
  "language_info": {
   "codemirror_mode": {
    "name": "ipython",
    "version": 2
   },
   "file_extension": ".py",
   "mimetype": "text/x-python",
   "name": "python",
   "nbconvert_exporter": "python",
   "pygments_lexer": "ipython2",
   "version": "2.7.6"
  }
 },
 "nbformat": 4,
 "nbformat_minor": 5
}
